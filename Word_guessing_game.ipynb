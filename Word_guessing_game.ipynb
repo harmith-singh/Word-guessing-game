{
  "nbformat": 4,
  "nbformat_minor": 0,
  "metadata": {
    "colab": {
      "name": "Word_guessing_game.ipynb",
      "provenance": [],
      "authorship_tag": "ABX9TyME6nYSLOBYqWDX9UlsCSJX",
      "include_colab_link": true
    },
    "kernelspec": {
      "name": "python3",
      "display_name": "Python 3"
    },
    "language_info": {
      "name": "python"
    }
  },
  "cells": [
    {
      "cell_type": "markdown",
      "metadata": {
        "id": "view-in-github",
        "colab_type": "text"
      },
      "source": [
        "<a href=\"https://colab.research.google.com/github/harmith-singh/Word-guessing-game/blob/main/Word_guessing_game.ipynb\" target=\"_parent\"><img src=\"https://colab.research.google.com/assets/colab-badge.svg\" alt=\"Open In Colab\"/></a>"
      ]
    },
    {
      "cell_type": "markdown",
      "source": [
        "**random module:**\n",
        "\n",
        "\n",
        "Sometimes we want the computer to pick a random number in a given range, pick a random element from a list, pick a random card from a deck, flip a coin, etc. The random module provides access to functions that support these types of operations. One such operation is random.choice() method (returns a random item from a list, tuple, or string.) that we are going to use in order to select one random word from a list of words that we’ve created."
      ],
      "metadata": {
        "id": "-tcB1DgmpJVA"
      }
    },
    {
      "cell_type": "markdown",
      "source": [
        "**Problem Statement:**\n",
        "\n",
        "In this game, there is a list of words present, out of which our interpreter will choose 1 random word. The user first has to input their names and then, will be asked to guess any alphabet. If the random word contains that alphabet, it will be shown as the output(with correct placement) else the program will ask you to guess another alphabet. User will be given 12 turns(can be changed accordingly) to guess the complete word.\n",
        "Below is the Python implementation: "
      ],
      "metadata": {
        "id": "SllXKWvepfrG"
      }
    },
    {
      "cell_type": "markdown",
      "source": [
        "#My try:"
      ],
      "metadata": {
        "id": "a5j7tc_1qBiW"
      }
    },
    {
      "cell_type": "code",
      "execution_count": 41,
      "metadata": {
        "colab": {
          "base_uri": "https://localhost:8080/"
        },
        "id": "mQQKwKejovZh",
        "outputId": "a355542e-2be8-4f03-ac4c-020517e5c9b8"
      },
      "outputs": [
        {
          "output_type": "stream",
          "name": "stdout",
          "text": [
            "Enter player name: haryr\n",
            "You have 12 chances to guess the corect word haryr.\n",
            " _  _  _  _  _  _  _  _  \n",
            "\n",
            "Enter a letter: r\n",
            " _  _  _  _  _  _  _ R \t\tChances left: 12\n",
            "Enter a letter: p\n",
            " _  _  _ P _  _  _ R \t\tChances left: 12\n",
            "Enter a letter: a\n",
            " _  _  _ P _  _  _ R \t\tChances left: 11\n",
            "Enter a letter: o\n",
            " _ O _ P _  _  _ R \t\tChances left: 11\n",
            "Enter a letter: i\n",
            " _ O _ P _  _  _ R \t\tChances left: 10\n",
            "Enter a letter: e\n",
            " _ O _ P _  _ ER \t\tChances left: 10\n",
            "Enter a letter: t\n",
            " _ O _ P _ TER \t\tChances left: 10\n",
            "Enter a letter: c\n",
            "CO _ P _ TER \t\tChances left: 10\n",
            "Enter a letter: m\n",
            "COMP _ TER \t\tChances left: 10\n",
            "Enter a letter: m\n",
            "COMP _ TER \t\tChances left: 10\n",
            "Enter a letter: n\n",
            "COMP _ TER \t\tChances left: 9\n",
            "Enter a letter: i\n",
            "COMP _ TER \t\tChances left: 8\n",
            "Enter a letter: c\n",
            "COMP _ TER \t\tChances left: 8\n",
            "Enter a letter: b\n",
            "COMP _ TER \t\tChances left: 7\n",
            "Enter a letter: qw\n",
            "COMP _ TER \t\tChances left: 6\n",
            "Enter a letter: \n",
            "COMP _ TER \t\tChances left: 5\n",
            "Enter a letter: fjlkad\n",
            "COMP _ TER \t\tChances left: 4\n",
            "Enter a letter: poku]\n",
            "COMP _ TER \t\tChances left: 3\n",
            "Enter a letter: ff\n",
            "COMP _ TER \t\tChances left: 2\n",
            "Enter a letter: uu\n",
            "COMP _ TER \t\tChances left: 1\n",
            "Enter a letter: c\n",
            "COMP _ TER \t\tChances left: 1\n",
            "Enter a letter: x\n",
            "COMP _ TER \t\tChances left: 0\n",
            "\n",
            "Sorry! you failed to guess the word COMPUTER correctly in 12 chances haryr.\n"
          ]
        }
      ],
      "source": [
        "#this game is pretty much like hangman, a simplified version\n",
        "import random\n",
        "\n",
        "\n",
        "words_list = ['rainbow', 'computer', 'science', 'programming', 'python', 'mathematics', 'player', 'condition', 'reverse', 'water', 'board', 'geeks']\n",
        "chances = 12\n",
        "obj_word = random.choice(words_list).upper()\n",
        "#print(obj_word)\n",
        "\n",
        "player_name = input('Enter player name: ')\n",
        "print('You have {} chances to guess the corect word {}.'.format(chances, player_name))\n",
        "\n",
        "\n",
        "#defining a function to mask letters\n",
        "def mask(word):\n",
        "  for letter in alphabet_list:\n",
        "    word = word.replace(letter, ' _ ')\n",
        "  return word\n",
        "  \n",
        "\n",
        "#game start\n",
        "alphabet_list = list('abcdefghijklmnopqrstuvwxyz'.upper())\n",
        "correctly_guessed = False\n",
        "\n",
        "guess = mask(obj_word)\n",
        "print(guess, '\\n')\n",
        "#starting loop\n",
        "chances_left = chances\n",
        "while chances_left > 0:\n",
        "  if guess != obj_word:\n",
        "    letter = input('Enter a letter: ').upper()\n",
        "\n",
        "    if letter in list(obj_word):\n",
        "      try:\n",
        "        alphabet_list.remove(letter)\n",
        "      except:\n",
        "        pass\n",
        "    else:\n",
        "      chances_left -= 1\n",
        "\n",
        "    guess = mask(obj_word)\n",
        "    print(guess, '\\t\\tChances left: {}'.format(chances_left))\n",
        "  \n",
        "  else:\n",
        "    print('\\nWow! you guessed the word {} correctly {}.'.format(obj_word, player_name))\n",
        "    correctly_guessed = True\n",
        "    break\n",
        "\n",
        "\n",
        "if not correctly_guessed:\n",
        "  print('\\nSorry! you failed to guess the word {} correctly in {} chances {}.'.format(obj_word, chances, player_name))"
      ]
    },
    {
      "cell_type": "markdown",
      "source": [
        "#Official Solution:"
      ],
      "metadata": {
        "id": "ahXkY6Jn2-fQ"
      }
    },
    {
      "cell_type": "code",
      "source": [
        "import random\n",
        "# library that we use in order to choose\n",
        "# on random words from a list of words\n",
        " \n",
        "name = input(\"What is your name? \")\n",
        "# Here the user is asked to enter the name first\n",
        " \n",
        "print(\"Good Luck ! \", name)\n",
        " \n",
        "words = ['rainbow', 'computer', 'science', 'programming',\n",
        "         'python', 'mathematics', 'player', 'condition',\n",
        "         'reverse', 'water', 'board', 'geeks']\n",
        " \n",
        "# Function will choose one random\n",
        "# word from this list of words\n",
        "word = random.choice(words)\n",
        " \n",
        " \n",
        "print(\"Guess the characters\")\n",
        " \n",
        "guesses = ''\n",
        " \n",
        "# any number of turns can be used here\n",
        "turns = 12\n",
        " \n",
        " \n",
        "while turns > 0:\n",
        "     \n",
        "    # counts the number of times a user fails\n",
        "    failed = 0\n",
        "     \n",
        "    # all characters from the input\n",
        "    # word taking one at a time.\n",
        "    for char in word:\n",
        "         \n",
        "        # comparing that character with\n",
        "        # the character in guesses\n",
        "        if char in guesses:\n",
        "            print(char, end=\" \")\n",
        "             \n",
        "        else:\n",
        "            print(\"_\")\n",
        "            print(char, end=\" \")\n",
        "             \n",
        "            # for every failure 1 will be\n",
        "            # incremented in failure\n",
        "            failed += 1\n",
        "\n",
        "             \n",
        " \n",
        "    if failed == 0:\n",
        "        # user will win the game if failure is 0\n",
        "        # and 'You Win' will be given as output\n",
        "        print(\"You Win\")\n",
        "         \n",
        "        # this print the correct word\n",
        "        print(\"The word is: \", word)\n",
        "        break\n",
        "     \n",
        "    # if user has input the wrong alphabet then\n",
        "    # it will ask user to enter another alphabet\n",
        "    print()\n",
        "    guess = input(\"guess a character:\")\n",
        "     \n",
        "    # every input character will be stored in guesses\n",
        "    guesses += guess\n",
        "     \n",
        "    # check input with the character in word\n",
        "    if guess not in word:\n",
        "         \n",
        "        turns -= 1\n",
        "         \n",
        "        # if the character doesn’t match the word\n",
        "        # then “Wrong” will be given as output\n",
        "        print(\"Wrong\")\n",
        "         \n",
        "        # this will print the number of\n",
        "        # turns left for the user\n",
        "        print(\"You have\", + turns, 'more guesses')\n",
        "         \n",
        "         \n",
        "        if turns == 0:\n",
        "            print(\"You Loose\")"
      ],
      "metadata": {
        "colab": {
          "base_uri": "https://localhost:8080/"
        },
        "id": "7Vdd8xNS29YD",
        "outputId": "24845137-a6d3-41a5-f138-5f9bdd3090a2"
      },
      "execution_count": 31,
      "outputs": [
        {
          "output_type": "stream",
          "name": "stdout",
          "text": [
            "What is your name? abc\n",
            "Good Luck !  abc\n",
            "Guess the characters\n",
            "_\n",
            "p _\n",
            "y _\n",
            "t _\n",
            "h _\n",
            "o _\n",
            "n \n",
            "guess a character:p\n",
            "p _\n",
            "y _\n",
            "t _\n",
            "h _\n",
            "o _\n",
            "n \n",
            "guess a character:y\n",
            "p y _\n",
            "t _\n",
            "h _\n",
            "o _\n",
            "n \n",
            "guess a character:y\n",
            "p y _\n",
            "t _\n",
            "h _\n",
            "o _\n",
            "n \n",
            "guess a character:y\n",
            "p y _\n",
            "t _\n",
            "h _\n",
            "o _\n",
            "n \n",
            "guess a character:tt\n",
            "Wrong\n",
            "You have 11 more guesses\n",
            "p y t _\n",
            "h _\n",
            "o _\n",
            "n \n",
            "guess a character:t\n",
            "p y t _\n",
            "h _\n",
            "o _\n",
            "n \n",
            "guess a character:h\n",
            "p y t h _\n",
            "o _\n",
            "n \n",
            "guess a character:o\n",
            "p y t h o _\n",
            "n \n",
            "guess a character:n\n",
            "p y t h o n You Win\n",
            "The word is:  python\n"
          ]
        }
      ]
    },
    {
      "cell_type": "markdown",
      "source": [
        "#My refined try:"
      ],
      "metadata": {
        "id": "6rbU2p52CNo6"
      }
    },
    {
      "cell_type": "markdown",
      "source": [
        "Note:\n",
        "\n",
        "1. My original try is far better than Official Solution in terms of gameplay and feel\n",
        "\n",
        "2. Introducing Data Validation in my try does not give any added benifit, as inputting wrong/empty strings will only give the player a disadvantage"
      ],
      "metadata": {
        "id": "bEzIgseWCXpK"
      }
    }
  ]
}